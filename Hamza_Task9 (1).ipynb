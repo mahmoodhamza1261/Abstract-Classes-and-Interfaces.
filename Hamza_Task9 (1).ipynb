{
  "nbformat": 4,
  "nbformat_minor": 0,
  "metadata": {
    "colab": {
      "provenance": []
    },
    "kernelspec": {
      "name": "python3",
      "display_name": "Python 3"
    },
    "language_info": {
      "name": "python"
    }
  },
  "cells": [
    {
      "cell_type": "markdown",
      "source": [
        "Basic Shape Drawing:\n",
        " You need to create a program where different shapes (Circle, Square, Triangle) need to\n",
        "be drawn. Each shape should have a method to calculate its area. How would you use an\n",
        "abstract class to define a common method for calculating the area for all shapes?"
      ],
      "metadata": {
        "id": "lrHlq3oeDf7p"
      }
    },
    {
      "cell_type": "code",
      "source": [
        "from abc import ABC, abstractmethod\n",
        "class Shape(ABC):\n",
        "    def calculate_area(self):\n",
        "        pass\n",
        "\n",
        "class Rectangle(Shape):\n",
        "    def __init__(self, length, width):\n",
        "        self.length = length\n",
        "        self.width = width\n",
        "\n",
        "    def calculate_area(self):\n",
        "        return self.length * self.width\n",
        "\n",
        "class Circle(Shape):\n",
        "    def __init__(self, radius):\n",
        "        self.radius = radius\n",
        "\n",
        "    def calculate_area(self):\n",
        "        return 3.14 * self.radius * self.radius\n",
        "\n",
        "\n",
        "rectangle = Rectangle(5, 3)\n",
        "print(\"Rectangle Area:\", rectangle.calculate_area())\n",
        "\n",
        "circle = Circle(4)\n",
        "print(\"Circle Area:\", circle.calculate_area())"
      ],
      "metadata": {
        "colab": {
          "base_uri": "https://localhost:8080/"
        },
        "id": "v-Elh1weguER",
        "outputId": "b5283cec-def0-4f59-c5aa-9493a8ab7c1f"
      },
      "execution_count": 6,
      "outputs": [
        {
          "output_type": "stream",
          "name": "stdout",
          "text": [
            "Rectangle Area: 15\n",
            "Circle Area: 50.24\n"
          ]
        }
      ]
    },
    {
      "cell_type": "markdown",
      "source": [
        "Simple Notification System:\n",
        " You want to implement a notification system where notifications can be sent via Email or\n",
        "SMS. Each notification type needs a method to send the notification. How would you\n",
        "design an abstract class or interface to define a common send method for all notification\n",
        "types?"
      ],
      "metadata": {
        "id": "E_O2hs26hL-A"
      }
    },
    {
      "cell_type": "code",
      "source": [
        "from abc import ABC, abstractmethod\n",
        "class Notification(ABC):\n",
        "    @abstractmethod\n",
        "    def send(self):\n",
        "        pass\n",
        "\n",
        "class EmailNotification(Notification):\n",
        "    def send(self):\n",
        "        print(\"Sending Email Notification\")\n",
        "\n",
        "class SMSNotification(Notification):\n",
        "    def send(self):\n",
        "        print(\"Sending SMS Notification\")\n",
        "\n",
        "email_notification = EmailNotification()\n",
        "email_notification.send()\n",
        "\n",
        "sms_notification = SMSNotification()\n",
        "sms_notification.send()"
      ],
      "metadata": {
        "colab": {
          "base_uri": "https://localhost:8080/"
        },
        "id": "vzRxs6SkhRDX",
        "outputId": "49cd8201-1e98-40a5-f0cb-003497e6a4a6"
      },
      "execution_count": 7,
      "outputs": [
        {
          "output_type": "stream",
          "name": "stdout",
          "text": [
            "Sending Email Notification\n",
            "Sending SMS Notification\n"
          ]
        }
      ]
    },
    {
      "cell_type": "markdown",
      "source": [
        "Vehicle Movement:\n",
        " Imagine you are designing a system to handle different types of vehicles (Car, Bicycle,\n",
        "Boat). Each vehicle should have a method to start and stop. How would you use an\n",
        "abstract class to define these common methods for all vehicles?"
      ],
      "metadata": {
        "id": "keAx5oyDhcs9"
      }
    },
    {
      "cell_type": "code",
      "source": [
        "from abc import ABC, abstractmethod\n",
        "class Vehicle(ABC):\n",
        "    @abstractmethod\n",
        "    def start(self):\n",
        "        pass\n",
        "\n",
        "    @abstractmethod\n",
        "    def stop(self):\n",
        "        pass\n",
        "\n",
        "class Car(Vehicle):\n",
        "    def start(self):\n",
        "        print(\"Car started\")\n",
        "\n",
        "    def stop(self):\n",
        "        print(\"Car stopped\")\n",
        "class Bicycle(Vehicle):\n",
        "    def start(self):\n",
        "        print(\"Bicycle started\")\n",
        "\n",
        "    def stop(self):\n",
        "        print(\"Bicycle stopped\")\n",
        "class Boat(Vehicle):\n",
        "    def start(self):\n",
        "        print(\"Boat started\")\n",
        "\n",
        "    def stop(self):\n",
        "        print(\"Boat stopped\")\n",
        "C=Car()\n",
        "C.start()\n",
        "C.stop()\n",
        "B=Bicycle()\n",
        "B.start()\n",
        "B.stop()\n",
        "Bo=Boat()\n",
        "Bo.start()\n",
        "Bo.stop()"
      ],
      "metadata": {
        "colab": {
          "base_uri": "https://localhost:8080/"
        },
        "id": "-sJrXXFHhesl",
        "outputId": "e2b984ef-ec0c-4332-9a08-a0e693004676"
      },
      "execution_count": 8,
      "outputs": [
        {
          "output_type": "stream",
          "name": "stdout",
          "text": [
            "Car started\n",
            "Car stopped\n",
            "Bicycle started\n",
            "Bicycle stopped\n",
            "Boat started\n",
            "Boat stopped\n"
          ]
        }
      ]
    },
    {
      "cell_type": "code",
      "source": [
        "from abc import ABC, abstractmethod\n",
        "\n",
        "class PaymentMethod(ABC):\n",
        "    @abstractmethod\n",
        "    def process_payment(self, amount):\n",
        "        pass\n",
        "\n",
        "class CreditCard(PaymentMethod):\n",
        "    def process_payment(self, amount):\n",
        "        print(f\"Processing credit card payment of {amount}\")\n",
        "\n",
        "class PayPal(PaymentMethod):\n",
        "    def process_payment(self, amount):\n",
        "        print(f\"Processing PayPal payment of {amount}\")\n",
        "\n",
        "# Usage\n",
        "payment = CreditCard()\n",
        "payment.process_payment(100)\n",
        "\n",
        "payment = PayPal()\n",
        "payment.process_payment(150)\n"
      ],
      "metadata": {
        "colab": {
          "base_uri": "https://localhost:8080/"
        },
        "id": "6RqUZYBfiCRV",
        "outputId": "e7173005-ba49-410c-e022-7008c1cd07de"
      },
      "execution_count": 9,
      "outputs": [
        {
          "output_type": "stream",
          "name": "stdout",
          "text": [
            "Processing credit card payment of 100\n",
            "Processing PayPal payment of 150\n"
          ]
        }
      ]
    },
    {
      "cell_type": "code",
      "source": [
        "from abc import ABC, abstractmethod\n",
        "\n",
        "class Animal(ABC):\n",
        "    @abstractmethod\n",
        "    def make_sound(self):\n",
        "        pass\n",
        "\n",
        "class Dog(Animal):\n",
        "    def make_sound(self):\n",
        "        print(\"Woof\")\n",
        "\n",
        "class Cat(Animal):\n",
        "    def make_sound(self):\n",
        "        print(\"Meow\")\n",
        "\n",
        "class Cow(Animal):\n",
        "    def make_sound(self):\n",
        "        print(\"Moo\")\n",
        "\n",
        "# Usage\n",
        "animal = Dog()\n",
        "animal.make_sound()\n",
        "\n",
        "animal = Cat()\n",
        "animal.make_sound()\n",
        "\n",
        "animal = Cow()\n",
        "animal.make_sound()\n"
      ],
      "metadata": {
        "colab": {
          "base_uri": "https://localhost:8080/"
        },
        "id": "B8NM2f1ViED0",
        "outputId": "573a009f-5109-427c-f77b-a4108da1a5b1"
      },
      "execution_count": 10,
      "outputs": [
        {
          "output_type": "stream",
          "name": "stdout",
          "text": [
            "Woof\n",
            "Meow\n",
            "Moo\n"
          ]
        }
      ]
    },
    {
      "cell_type": "code",
      "source": [
        "from abc import ABC, abstractmethod\n",
        "\n",
        "class AuthenticationMethod(ABC):\n",
        "    @abstractmethod\n",
        "    def authenticate(self, credentials):\n",
        "        pass\n",
        "\n",
        "class UsernamePasswordAuth(AuthenticationMethod):\n",
        "    def authenticate(self, credentials):\n",
        "        print(\"Authenticating with username and password\")\n",
        "\n",
        "class BiometricAuth(AuthenticationMethod):\n",
        "    def authenticate(self, credentials):\n",
        "        print(\"Authenticating with biometrics\")\n",
        "\n",
        "# Usage\n",
        "auth_method = UsernamePasswordAuth()\n",
        "auth_method.authenticate(\"user_credentials\")\n",
        "\n",
        "auth_method = BiometricAuth()\n",
        "auth_method.authenticate(\"user_biometrics\")\n"
      ],
      "metadata": {
        "colab": {
          "base_uri": "https://localhost:8080/"
        },
        "id": "_1rZK6C9iGl0",
        "outputId": "dd8fcbe7-eccd-49f3-cb5b-4dc4ecff2ac1"
      },
      "execution_count": 11,
      "outputs": [
        {
          "output_type": "stream",
          "name": "stdout",
          "text": [
            "Authenticating with username and password\n",
            "Authenticating with biometrics\n"
          ]
        }
      ]
    },
    {
      "cell_type": "code",
      "source": [
        "from abc import ABC, abstractmethod\n",
        "\n",
        "class Sensor(ABC):\n",
        "    @abstractmethod\n",
        "    def activate_alarm(self):\n",
        "        pass\n",
        "\n",
        "class DoorSensor(Sensor):\n",
        "    def activate_alarm(self):\n",
        "        print(\"Alarm activated by door sensor\")\n",
        "\n",
        "class MotionSensor(Sensor):\n",
        "    def activate_alarm(self):\n",
        "        print(\"Alarm activated by motion sensor\")\n",
        "\n",
        "# Usage\n",
        "sensor = DoorSensor()\n",
        "sensor.activate_alarm()\n",
        "\n",
        "sensor = MotionSensor()\n",
        "sensor.activate_alarm()\n"
      ],
      "metadata": {
        "colab": {
          "base_uri": "https://localhost:8080/"
        },
        "id": "QSqlPTTviLGF",
        "outputId": "edf5dbad-45ac-4b39-fd89-361041221546"
      },
      "execution_count": 12,
      "outputs": [
        {
          "output_type": "stream",
          "name": "stdout",
          "text": [
            "Alarm activated by door sensor\n",
            "Alarm activated by motion sensor\n"
          ]
        }
      ]
    },
    {
      "cell_type": "code",
      "source": [
        "from abc import ABC, abstractmethod\n",
        "\n",
        "class Report(ABC):\n",
        "    @abstractmethod\n",
        "    def generate_report(self, data):\n",
        "        pass\n",
        "\n",
        "class PDFReport(Report):\n",
        "    def generate_report(self, data):\n",
        "        print(\"Generating PDF report\")\n",
        "\n",
        "class CSVReport(Report):\n",
        "    def generate_report(self, data):\n",
        "        print(\"Generating CSV report\")\n",
        "\n",
        "# Usage\n",
        "report = PDFReport()\n",
        "report.generate_report(\"report_data\")\n",
        "\n",
        "report = CSVReport()\n",
        "report.generate_report(\"report_data\")\n"
      ],
      "metadata": {
        "colab": {
          "base_uri": "https://localhost:8080/"
        },
        "id": "syGh-HeziOiU",
        "outputId": "9e9f789c-be2f-4c99-93de-1bbcdab62bbb"
      },
      "execution_count": 13,
      "outputs": [
        {
          "output_type": "stream",
          "name": "stdout",
          "text": [
            "Generating PDF report\n",
            "Generating CSV report\n"
          ]
        }
      ]
    },
    {
      "cell_type": "code",
      "source": [
        "from abc import ABC, abstractmethod\n",
        "\n",
        "class Operation(ABC):\n",
        "    @abstractmethod\n",
        "    def execute(self, a, b):\n",
        "        pass\n",
        "\n",
        "class Addition(Operation):\n",
        "    def execute(self, a, b):\n",
        "        return a + b\n",
        "\n",
        "class Subtraction(Operation):\n",
        "    def execute(self, a, b):\n",
        "        return a - b\n",
        "\n",
        "# Usage\n",
        "operation = Addition()\n",
        "print(operation.execute(5, 3))\n",
        "\n",
        "operation = Subtraction()\n",
        "print(operation.execute(5, 3))\n"
      ],
      "metadata": {
        "colab": {
          "base_uri": "https://localhost:8080/"
        },
        "id": "0iGDMK81iQ41",
        "outputId": "e7b3f5a6-210b-4322-bcff-e582f82f06f9"
      },
      "execution_count": 14,
      "outputs": [
        {
          "output_type": "stream",
          "name": "stdout",
          "text": [
            "8\n",
            "2\n"
          ]
        }
      ]
    },
    {
      "cell_type": "code",
      "source": [
        "from abc import ABC, abstractmethod\n",
        "\n",
        "class Food(ABC):\n",
        "    @abstractmethod\n",
        "    def prepare(self):\n",
        "        pass\n",
        "\n",
        "class Pasta(Food):\n",
        "    def prepare(self):\n",
        "        print(\"Preparing pasta\")\n",
        "\n",
        "class Salad(Food):\n",
        "    def prepare(self):\n",
        "        print(\"Preparing salad\")\n",
        "\n",
        "class Soup(Food):\n",
        "    def prepare(self):\n",
        "        print(\"Preparing soup\")\n",
        "\n",
        "# Usage\n",
        "food = Pasta()\n",
        "food.prepare()\n",
        "\n",
        "food = Salad()\n",
        "food.prepare()\n",
        "\n",
        "food = Soup()\n",
        "food.prepare()\n"
      ],
      "metadata": {
        "colab": {
          "base_uri": "https://localhost:8080/"
        },
        "id": "XLKnC32MiS3E",
        "outputId": "a3e9c396-5190-4a1c-eac4-f2d3982cc17d"
      },
      "execution_count": 15,
      "outputs": [
        {
          "output_type": "stream",
          "name": "stdout",
          "text": [
            "Preparing pasta\n",
            "Preparing salad\n",
            "Preparing soup\n"
          ]
        }
      ]
    },
    {
      "cell_type": "code",
      "source": [
        "from abc import ABC, abstractmethod\n",
        "\n",
        "class Animal(ABC):\n",
        "    @abstractmethod\n",
        "    def move(self):\n",
        "        pass\n",
        "\n",
        "class Elephant(Animal):\n",
        "    def move(self):\n",
        "        print(\"Elephant moves slowly\")\n",
        "\n",
        "class Giraffe(Animal):\n",
        "    def move(self):\n",
        "        print(\"Giraffe moves gracefully\")\n",
        "\n",
        "class Penguin(Animal):\n",
        "    def move(self):\n",
        "        print(\"Penguin waddles\")\n",
        "\n",
        "# Usage\n",
        "animal = Elephant()\n",
        "animal.move()\n",
        "\n",
        "animal = Giraffe()\n",
        "animal.move()\n",
        "\n",
        "animal = Penguin()\n",
        "animal.move()\n"
      ],
      "metadata": {
        "colab": {
          "base_uri": "https://localhost:8080/"
        },
        "id": "rkKcg31YiWIE",
        "outputId": "548b7c1c-b04e-4fbf-bf71-95340069b9c1"
      },
      "execution_count": 16,
      "outputs": [
        {
          "output_type": "stream",
          "name": "stdout",
          "text": [
            "Elephant moves slowly\n",
            "Giraffe moves gracefully\n",
            "Penguin waddles\n"
          ]
        }
      ]
    },
    {
      "cell_type": "code",
      "source": [
        "from abc import ABC, abstractmethod\n",
        "\n",
        "class Light(ABC):\n",
        "    @abstractmethod\n",
        "    def turn_on(self):\n",
        "        pass\n",
        "\n",
        "    @abstractmethod\n",
        "    def turn_off(self):\n",
        "        pass\n",
        "\n",
        "class LED(Light):\n",
        "    def turn_on(self):\n",
        "        print(\"LED light is on\")\n",
        "\n",
        "    def turn_off(self):\n",
        "        print(\"LED light is off\")\n",
        "\n",
        "class Incandescent(Light):\n",
        "    def turn_on(self):\n",
        "        print(\"Incandescent light is on\")\n",
        "\n",
        "    def turn_off(self):\n",
        "        print(\"Incandescent light is off\")\n",
        "\n",
        "class Fluorescent(Light):\n",
        "    def turn_on(self):\n",
        "        print(\"Fluorescent light is on\")\n",
        "\n",
        "    def turn_off(self):\n",
        "        print(\"Fluorescent light is off\")\n",
        "\n",
        "# Usage\n",
        "light = LED()\n",
        "light.turn_on()\n",
        "light.turn_off()\n",
        "\n",
        "light = Incandescent()\n",
        "light.turn_on()\n",
        "light.turn_off()\n",
        "\n",
        "light = Fluorescent()\n",
        "light.turn_on()\n",
        "light.turn_off()\n"
      ],
      "metadata": {
        "colab": {
          "base_uri": "https://localhost:8080/"
        },
        "id": "QmDXVe_qiYaD",
        "outputId": "e3c4df03-8b97-4f62-e9f0-e437b366cce2"
      },
      "execution_count": 17,
      "outputs": [
        {
          "output_type": "stream",
          "name": "stdout",
          "text": [
            "LED light is on\n",
            "LED light is off\n",
            "Incandescent light is on\n",
            "Incandescent light is off\n",
            "Fluorescent light is on\n",
            "Fluorescent light is off\n"
          ]
        }
      ]
    },
    {
      "cell_type": "code",
      "source": [
        "from abc import ABC, abstractmethod\n",
        "\n",
        "class PaymentMethod(ABC):\n",
        "    @abstractmethod\n",
        "    def generate_receipt(self):\n",
        "        pass\n",
        "\n",
        "class Cash(PaymentMethod):\n",
        "    def generate_receipt(self):\n",
        "        print(\"Generating cash receipt\")\n",
        "\n",
        "class CreditCard(PaymentMethod):\n",
        "    def generate_receipt(self):\n",
        "        print(\"Generating credit card receipt\")\n",
        "\n",
        "# Usage\n",
        "payment = Cash()\n",
        "payment.generate_receipt()\n",
        "\n",
        "payment = CreditCard()\n",
        "payment.generate_receipt()\n"
      ],
      "metadata": {
        "colab": {
          "base_uri": "https://localhost:8080/"
        },
        "id": "F1oyEP2wiaXT",
        "outputId": "4315badc-98f5-4571-f968-da160a2a5ac0"
      },
      "execution_count": 18,
      "outputs": [
        {
          "output_type": "stream",
          "name": "stdout",
          "text": [
            "Generating cash receipt\n",
            "Generating credit card receipt\n"
          ]
        }
      ]
    },
    {
      "cell_type": "code",
      "source": [
        "from abc import ABC, abstractmethod\n",
        "\n",
        "class Task(ABC):\n",
        "    @abstractmethod\n",
        "    def mark_complete(self):\n",
        "        pass\n",
        "\n",
        "class WorkTask(Task):\n",
        "    def mark_complete(self):\n",
        "        print(\"Work task marked as complete\")\n",
        "\n",
        "class PersonalTask(Task):\n",
        "    def mark_complete(self):\n",
        "        print(\"Personal task marked as complete\")\n",
        "\n",
        "# Usage\n",
        "task = WorkTask()\n",
        "task.mark_complete()\n",
        "\n",
        "task = PersonalTask()\n",
        "task.mark_complete()\n"
      ],
      "metadata": {
        "colab": {
          "base_uri": "https://localhost:8080/"
        },
        "id": "FQwsuJREidFo",
        "outputId": "a7fce96e-26ec-4549-95c7-0ef6fc4b83b2"
      },
      "execution_count": 19,
      "outputs": [
        {
          "output_type": "stream",
          "name": "stdout",
          "text": [
            "Work task marked as complete\n",
            "Personal task marked as complete\n"
          ]
        }
      ]
    },
    {
      "cell_type": "code",
      "source": [
        "from abc import ABC, abstractmethod\n",
        "\n",
        "class TemperatureSensor(ABC):\n",
        "    @abstractmethod\n",
        "    def read_temperature(self):\n",
        "        pass\n",
        "\n",
        "class Thermometer(TemperatureSensor):\n",
        "    def read_temperature(self):\n",
        "        print(\"Reading temperature from thermometer\")\n",
        "\n",
        "class Thermocouple(TemperatureSensor):\n",
        "    def read_temperature(self):\n",
        "        print(\"Reading temperature from thermocouple\")\n",
        "\n",
        "# Usage\n",
        "sensor = Thermometer()\n",
        "sensor.read_temperature()\n",
        "\n",
        "sensor = Thermocouple()\n",
        "sensor.read_temperature()\n"
      ],
      "metadata": {
        "colab": {
          "base_uri": "https://localhost:8080/"
        },
        "id": "tW2J4zddifaT",
        "outputId": "4736061d-0feb-424c-9d76-4422e99a8d2f"
      },
      "execution_count": 20,
      "outputs": [
        {
          "output_type": "stream",
          "name": "stdout",
          "text": [
            "Reading temperature from thermometer\n",
            "Reading temperature from thermocouple\n"
          ]
        }
      ]
    },
    {
      "cell_type": "code",
      "source": [
        "from abc import ABC, abstractmethod\n",
        "\n",
        "class Function(ABC):\n",
        "    @abstractmethod\n",
        "    def compute(self, a, b):\n",
        "        pass\n",
        "\n",
        "class Addition(Function):\n",
        "    def compute(self, a, b):\n",
        "        return a + b\n",
        "\n",
        "class Multiplication(Function):\n",
        "    def compute(self, a, b):\n",
        "        return a * b\n",
        "\n",
        "# Usage\n",
        "function = Addition()\n",
        "print(function.compute(5, 3))\n",
        "\n",
        "function = Multiplication()\n",
        "print(function.compute(5, 3))\n"
      ],
      "metadata": {
        "colab": {
          "base_uri": "https://localhost:8080/"
        },
        "id": "WoNkJQ7DihUT",
        "outputId": "9754ebca-509e-4f4c-d266-fb99bf2de38d"
      },
      "execution_count": 21,
      "outputs": [
        {
          "output_type": "stream",
          "name": "stdout",
          "text": [
            "8\n",
            "15\n"
          ]
        }
      ]
    },
    {
      "cell_type": "code",
      "source": [
        "from abc import ABC, abstractmethod\n",
        "\n",
        "class File(ABC):\n",
        "    @abstractmethod\n",
        "    def open(self):\n",
        "        pass\n",
        "\n",
        "    @abstractmethod\n",
        "    def close(self):\n",
        "        pass\n",
        "\n",
        "class TextFile(File):\n",
        "    def open(self):\n",
        "        print(\"Opening text file\")\n",
        "\n",
        "    def close(self):\n",
        "        print(\"Closing text file\")\n",
        "\n",
        "class BinaryFile(File):\n",
        "    def open(self):\n",
        "        print(\"Opening binary file\")\n",
        "\n",
        "    def close(self):\n",
        "        print(\"Closing binary file\")\n",
        "\n",
        "# Usage\n",
        "file = TextFile()\n",
        "file.open()\n",
        "file.close()\n",
        "\n",
        "file = BinaryFile()\n",
        "file.open()\n",
        "file.close()\n"
      ],
      "metadata": {
        "colab": {
          "base_uri": "https://localhost:8080/"
        },
        "id": "--UY-ZUripVi",
        "outputId": "b4b0f2ee-cf52-4367-9a6a-c39e318677e9"
      },
      "execution_count": 22,
      "outputs": [
        {
          "output_type": "stream",
          "name": "stdout",
          "text": [
            "Opening text file\n",
            "Closing text file\n",
            "Opening binary file\n",
            "Closing binary file\n"
          ]
        }
      ]
    },
    {
      "cell_type": "code",
      "source": [],
      "metadata": {
        "id": "Ztg2w5JzisbS"
      },
      "execution_count": null,
      "outputs": []
    }
  ]
}